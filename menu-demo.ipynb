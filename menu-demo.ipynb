{
 "cells": [
  {
   "cell_type": "markdown",
   "metadata": {},
   "source": [
    "# Module Installation"
   ]
  },
  {
   "cell_type": "code",
   "execution_count": null,
   "metadata": {
    "vscode": {
     "languageId": "shellscript"
    }
   },
   "outputs": [],
   "source": [
    "!pip install redis pandas kaggle python-dotenv"
   ]
  },
  {
   "cell_type": "markdown",
   "metadata": {},
   "source": [
    "# Data Prep\n",
    "Download a Kaggle menu data set, clean+format the data, and then write the data to a JSON file."
   ]
  },
  {
   "cell_type": "code",
   "execution_count": null,
   "metadata": {},
   "outputs": [],
   "source": [
    "import pandas as pd\n",
    "import os\n",
    "from dotenv import load_dotenv\n",
    "import json\n",
    "import redis\n",
    "from redis.commands.search.field import NumericField, TagField, TextField, GeoField\n",
    "from redis.commands.search.indexDefinition import IndexDefinition, IndexType\n",
    "from redis.commands.search.query import Query\n",
    "from redis.commands.search.aggregation import AggregateRequest, Desc\n",
    "from redis.commands.search import reducers\n",
    "from time import perf_counter_ns\n",
    "\n",
    "DATASET=\"ahmedshahriarsakib/uber-eats-usa-restaurants-menus\"\n",
    "RESTAURANTS=\"./data/restaurants.json\"\n",
    "\n",
    "load_dotenv(override=True)\n",
    "if not os.path.exists(RESTAURANTS):\n",
    "    if not os.path.exists(\"./data/restaurants.csv\") or not os.path.exists(\"./data/restaurant-menus.csv\"):\n",
    "        from kaggle.api.kaggle_api_extended import KaggleApi\n",
    "        api = KaggleApi()\n",
    "        api.authenticate()\n",
    "        api.dataset_download_files(DATASET, path='./data', quiet=True, unzip=True)\n",
    "\n",
    "    df = pd.read_csv(\"./data/restaurants.csv\", usecols=['id', 'name', 'full_address', 'lat', 'lng'])\n",
    "    df.dropna(inplace=True)\n",
    "    df['coords'] = df['lng'].astype(str) + ' ' + df['lat'].astype(str)\n",
    "    df.drop(['lat', 'lng'], axis=1, inplace=True)\n",
    "    \n",
    "    df_menu = pd.read_csv(\"./data/restaurant-menus.csv\")\n",
    "    mask = df_menu['restaurant_id'].isin(df['id'].tolist())\n",
    "    df_menu = df_menu[mask]\n",
    "    df_menu.drop(['description'], axis=1, inplace=True)\n",
    "    df_menu[['price', 'currency']] = df_menu['price'].str.split(' ', expand=True)\n",
    "    df_menu['price'] = pd.to_numeric(df_menu['price'], errors='coerce')\n",
    "    df_menu.dropna(inplace=True)\n",
    "    \n",
    "    restaurants = json.loads(df.to_json(orient='records'))\n",
    "    for idx, restaurant in enumerate(restaurants):\n",
    "        menu = json.loads((df_menu[df_menu['restaurant_id'] == restaurant['id']]).to_json(orient='records'))\n",
    "        restaurant['menu'] = []\n",
    "        for item in menu:\n",
    "            del item['restaurant_id']\n",
    "            restaurant['menu'].append(item)\n",
    "        restaurants[idx] = restaurant\n",
    "\n",
    "    with open(RESTAURANTS, \"w\") as outfile:\n",
    "        json.dump(restaurants,outfile)  \n",
    "\n",
    "    print(f'Number of restaurants: {len(df)}')\n",
    "    print(f'Number of menu items: {len(df_menu)}')"
   ]
  },
  {
   "cell_type": "markdown",
   "metadata": {},
   "source": [
    "# Redis Load\n",
    "Write the restaurant JSON objects from file into Redis into two different data structures:  serialized JSON and native JSON. "
   ]
  },
  {
   "cell_type": "code",
   "execution_count": null,
   "metadata": {},
   "outputs": [],
   "source": [
    "with open(RESTAURANTS) as f:\n",
    "    restaurants = json.load(f)\n",
    "\n",
    "client = redis.Redis(\n",
    "    host=os.environ.get(\"RE_HOST\"),\n",
    "    port=os.environ.get(\"RE_PORT\"),\n",
    "    username=os.environ.get(\"RE_USER\"),\n",
    "    password=os.environ.get(\"RE_PWD\"),\n",
    "    ssl=os.environ.get(\"RE_SSL\")\n",
    ")\n",
    "client.flushdb()\n",
    "pipe = client.pipeline(transaction=False)\n",
    "\n",
    "# String\n",
    "for str_idx, restaurant in enumerate(restaurants):\n",
    "    key = f'restaurant_str:{restaurant[\"id\"]}'\n",
    "    stringified_val = json.dumps(restaurant)\n",
    "    if str_idx>0 and str_idx%1000 == 0:\n",
    "        pipe.execute()\n",
    "    pipe.set(key, stringified_val)\n",
    "pipe.execute()\n",
    "\n",
    "# JSON + Search Index\n",
    "idx_def = IndexDefinition(index_type=IndexType.JSON, prefix=['restaurant_json:'])\n",
    "schema = [\n",
    "    NumericField('$.id', as_name='id'),\n",
    "    TextField('$.name', as_name='name'),\n",
    "    TextField('$.full_address', as_name='address'),\n",
    "    GeoField('$.coords', as_name='coords'),\n",
    "    TagField('$.menu[*].category', as_name='menu_item_category'),\n",
    "    TextField('$.menu[*].name', as_name='menu_item_name'),\n",
    "    NumericField('$.menu[*].price', as_name='menu_item_price')\n",
    "]\n",
    "client.ft('restaurant_idx').create_index(schema, definition=idx_def)\n",
    "\n",
    "for json_idx, restaurant in enumerate(restaurants):\n",
    "    key = f'restaurant_json:{restaurant[\"id\"]}'\n",
    "    if json_idx>0 and json_idx%1000 == 0:\n",
    "        pipe.execute()\n",
    "    pipe.json().set(key, '$', restaurant)\n",
    "pipe.execute()\n",
    "\n",
    "print(f'{str_idx + 1} strings written to Redis')\n",
    "print(f'{json_idx + 1} JSON objects written to Redis')"
   ]
  },
  {
   "cell_type": "markdown",
   "metadata": {},
   "source": [
    "# Scenario 1  \n",
    "Hypothetical Business Problem: Given a known restaurant ID and a menu item name, find its price."
   ]
  },
  {
   "cell_type": "code",
   "execution_count": null,
   "metadata": {},
   "outputs": [],
   "source": [
    "restaurant_id = 1\n",
    "menu_item = \"Arizona Green Tea\"\n",
    "\n",
    "# String\n",
    "price = ''\n",
    "t1 = perf_counter_ns()\n",
    "restaurant_str = client.get(f'restaurant_str:{restaurant_id}')\n",
    "restaurant_json = json.loads(restaurant_str)\n",
    "menu = restaurant_json['menu']\n",
    "for item in menu:\n",
    "    if item['name'] == menu_item:\n",
    "        price = item['price'] \n",
    "        break\n",
    "t2 = perf_counter_ns()\n",
    "print('*** String ***')\n",
    "print(f'Result: {price}')\n",
    "print(f'Time: {round((t2-t1)/1e6,2)} ms')\n",
    "print(f'Lines of code: 7')\n",
    "\n",
    "# JSON\n",
    "price = ''\n",
    "t1 = perf_counter_ns()\n",
    "query = Query(f'@id:[{restaurant_id}, {restaurant_id}]')\\\n",
    "    .return_field(f'$.menu[?(@.name==\"{menu_item}\")].price', as_field='price')\n",
    "result = client.ft('restaurant_idx').search(query)\n",
    "t2 = perf_counter_ns()\n",
    "print('\\n*** JSON ***')\n",
    "print(f'Result: {result.docs[0].price}')\n",
    "print(f'Time: {round((t2-t1)/1e6,2)} ms')\n",
    "print(f'Lines of code: 2')"
   ]
  },
  {
   "cell_type": "markdown",
   "metadata": {},
   "source": [
    "# Scenario 2 \n",
    "Hypothetical Business Problem: Find the number of Papa Johns restaurants within a 100 mi radius of Madison WI"
   ]
  },
  {
   "cell_type": "code",
   "execution_count": null,
   "metadata": {},
   "outputs": [],
   "source": [
    "'''\n",
    "String Algorithm:\n",
    "- Loop thru the Redis key space\n",
    "- Deserialize each string to JSON\n",
    "- Perform a string comparison on the restaurant name element, covering letter case variations \n",
    "- For each restaurant name string match, perform a Haversine calculation\n",
    "- Update local counter for Haversine matches\n",
    "'''\n",
    "\n",
    "# JSON\n",
    "madison = \"-89.4008, 43.0722\"\n",
    "t1 = perf_counter_ns() \n",
    "query = Query(f'@name:\"Papa Johns\" @coords:[{madison} 100 mi]').paging(0, 0)\n",
    "count = client.ft('restaurant_idx').search(query).total\n",
    "t2 = perf_counter_ns()\n",
    "print(f'Result: {count}')\n",
    "print(f'Time: {round((t2-t1)/1e6,2)} ms')\n",
    "print(f'Lines of code: 2')\n"
   ]
  },
  {
   "cell_type": "markdown",
   "metadata": {},
   "source": [
    "# Scenario 3  \n",
    "Hypothetical Business Problem: Find the Top 3 menu items by count in the State of Texas"
   ]
  },
  {
   "cell_type": "code",
   "execution_count": null,
   "metadata": {},
   "outputs": [],
   "source": [
    "'''\n",
    "String Algorithm:\n",
    "- Loop thru the Redis key space\n",
    "- Deserialize each string to JSON\n",
    "- Perform a string comparison on the restaurant address element\n",
    "- For restaurant address string matches, initiate a inner loop on the menu elements - cover letter case + stem variations\n",
    "- Maintain counters for every possible menu item.  Increment applicable counter per menu element\n",
    "- Sort counters, display Top 3 items\n",
    "'''\n",
    "\n",
    "# JSON\n",
    "t1 = perf_counter_ns() \n",
    "request = AggregateRequest('@address:TX')\\\n",
    "    .group_by('@menu_item_name', reducers.count().alias('item_count'))\\\n",
    "    .sort_by(Desc('@item_count'))\\\n",
    "    .limit(0,3)\n",
    "result = client.ft('restaurant_idx').aggregate(request)\n",
    "t2 = perf_counter_ns()\n",
    "print('\\n*** JSON ***')\n",
    "print(f'Results:')\n",
    "for row in result.rows:\n",
    "    print(f'{str(row[1], \"UTF-8\")}: {str(row[3], \"UTF-8\")}')\n",
    "print(f'\\nTime: {round((t2-t1)/1e6,2)} ms')\n",
    "print(f'Lines of Code: 2')\n"
   ]
  }
 ],
 "metadata": {
  "kernelspec": {
   "display_name": ".venv",
   "language": "python",
   "name": "python3"
  },
  "language_info": {
   "codemirror_mode": {
    "name": "ipython",
    "version": 3
   },
   "file_extension": ".py",
   "mimetype": "text/x-python",
   "name": "python",
   "nbconvert_exporter": "python",
   "pygments_lexer": "ipython3",
   "version": "3.10.12"
  },
  "orig_nbformat": 4
 },
 "nbformat": 4,
 "nbformat_minor": 2
}
